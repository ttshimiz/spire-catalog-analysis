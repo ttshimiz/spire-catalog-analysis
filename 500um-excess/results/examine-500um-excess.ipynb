{
 "metadata": {
  "name": "",
  "signature": "sha256:a3b71ceba11d3d43a16e6c57592a0a3a9a9d56de865b4a6aa2423fded85122dc"
 },
 "nbformat": 3,
 "nbformat_minor": 0,
 "worksheets": [
  {
   "cells": [
    {
     "cell_type": "heading",
     "level": 1,
     "metadata": {},
     "source": []
    }
   ],
   "metadata": {}
  }
 ]
}