{
 "cells": [
  {
   "cell_type": "markdown",
   "metadata": {},
   "source": [
    "#Survival Analysis of SPIRE Luminosity Distribution"
   ]
  },
  {
   "cell_type": "markdown",
   "metadata": {},
   "source": [
    "In this notebook I am going to characterize the SPIRE luminosity distributions for the BAT AGN. Each wavelength (250, 350, 500) will be analyzed as well as breaking up the sample into Seyfert types. I will use survival analysis to take into account all of the upper limits."
   ]
  },
  {
   "cell_type": "code",
   "execution_count": 3,
   "metadata": {
    "collapsed": true
   },
   "outputs": [],
   "source": [
    "# Normal science modules\n",
    "import numpy as np\n",
    "import matplotlib.pyplot as plt\n",
    "import pandas as pd"
   ]
  },
  {
   "cell_type": "code",
   "execution_count": 50,
   "metadata": {
    "collapsed": false
   },
   "outputs": [],
   "source": [
    "# Survival analysis package\n",
    "import rpy2.robjects as robjects\n",
    "import rpy2.robjects.vectors as vecs\n",
    "from rpy2.robjects import Formula\n",
    "from rpy2.robjects.packages import importr\n",
    "import pandas.rpy.common as com\n",
    "surv = importr('survival')"
   ]
  },
  {
   "cell_type": "code",
   "execution_count": 13,
   "metadata": {
    "collapsed": false
   },
   "outputs": [],
   "source": [
    "# Import the SPIRE data\n",
    "bat_herschel = pd.read_csv('/Users/ttshimiz/Github/bat-data/bat_herschel.csv', index_col=0)\n",
    "bat_info = pd.read_csv('/Users/ttshimiz/Github/bat-data/bat_info.csv', index_col=0)"
   ]
  },
  {
   "cell_type": "code",
   "execution_count": 39,
   "metadata": {
    "collapsed": true
   },
   "outputs": [],
   "source": [
    "# Calculate luminosities for each wavelength and each source\n",
    "# L = 4*pi*D^2*F\n",
    "l250 = 4*np.pi*(bat_info['Dist_[Mpc]']*10**6*3.09e18)**2*(3.0e10/250.0e-4)*bat_herschel['PSW']*10**(-23)\n",
    "l350 = 4*np.pi*(bat_info['Dist_[Mpc]']*10**6*3.09e18)**2*(3.0e10/350.0e-4)*bat_herschel['PMW']*10**(-23)\n",
    "l500 = 4*np.pi*(bat_info['Dist_[Mpc]']*10**6*3.09e18)**2*(3.0e10/500.0e-4)*bat_herschel['PLW']*10**(-23)\n",
    "\n",
    "# Input the 5-sigma upper limits\n",
    "l250[l250 == 0] = 4*np.pi*(bat_info['Dist_[Mpc]'][l250 == 0]*10**6*3.09e18)**2*(3.0e10/250.0e-4)*bat_herschel['PSW_err'][l250 == 0]*10**(-23)\n",
    "l350[l350 == 0] = 4*np.pi*(bat_info['Dist_[Mpc]'][l350 == 0]*10**6*3.09e18)**2*(3.0e10/350.0e-4)*bat_herschel['PMW_err'][l350 == 0]*10**(-23)\n",
    "l500[l500 == 0] = 4*np.pi*(bat_info['Dist_[Mpc]'][l500 == 0]*10**6*3.09e18)**2*(3.0e10/500.0e-4)*bat_herschel['PLW_err'][l500 == 0]*10**(-23)"
   ]
  },
  {
   "cell_type": "code",
   "execution_count": 11,
   "metadata": {
    "collapsed": false
   },
   "outputs": [],
   "source": [
    "# Create the censor vectors. TRUE indicates a detected point\n",
    "cens250 = bat_herschel['PSW'] != 0\n",
    "cens350 = bat_herschel['PMW'] != 0\n",
    "cens500 = bat_herschel['PLW'] != 0"
   ]
  },
  {
   "cell_type": "code",
   "execution_count": 20,
   "metadata": {
    "collapsed": false
   },
   "outputs": [],
   "source": [
    "# Group the sample in to Sy 1, Sy 2, LINER, and AGN\n",
    "bat_info['Sy_Type'] = pd.Series(index=bat_info.index)\n",
    "for src in bat_info.index.values:\n",
    "\n",
    "\ttype_split = bat_info.loc[src]['BAT_Type'].split()\n",
    "\n",
    "\tif (type_split[0] == 'Sy'):\n",
    "\t\tif ((type_split[1] == '1') | (type_split[1] == '1.2') | (type_split[1] == '1.4') | (type_split[1] == '1.5')):\n",
    "\n",
    "\t\t\t bat_info.loc[src, 'Sy_Type'] = 'Sy 1'\n",
    "\n",
    "\t\telif ((type_split[1] == '1.8') | (type_split[1] == '1.9') | (type_split[1] == '2')):\n",
    "\t\t\tbat_info.loc[src, 'Sy_Type']= 'Sy 2'\n",
    "\telse:\n",
    "\n",
    "\t\tif (type_split[0] == 'LINER'):\n",
    "\t\t\tbat_info.loc[src, 'Sy_Type']= 'LINER'\n",
    "\n",
    "\t\telif (type_split[0] == 'AGN'):\n",
    "\t\t\tbat_info.loc[src, 'Sy_Type']= 'AGN'"
   ]
  },
  {
   "cell_type": "code",
   "execution_count": 24,
   "metadata": {
    "collapsed": false
   },
   "outputs": [],
   "source": [
    "# Create function to run the survival analysis\n",
    "def calc_surv_mean(data, cens):\n",
    "    # Convert arrays to R style arrays\n",
    "    rdata = vecs.FloatVector(data)\n",
    "    rcens = vecs.BoolVector(cens)\n",
    "\n",
    "    mysurv = surv.Surv(rdata, rcens, type=\"left\")\n",
    "    fmla = Formula('y ~ 1')\n",
    "    fmla.environment['y'] = mysurv\n",
    "    mysurvfit = surv.survfit(fmla)\n",
    "    \n",
    "    summary = surv.summary_survfit(mysurvfit, rmean = True)\n",
    "    \n",
    "    return summary"
   ]
  },
  {
   "cell_type": "code",
   "execution_count": 32,
   "metadata": {
    "collapsed": false
   },
   "outputs": [
    {
     "name": "stdout",
     "output_type": "stream",
     "text": [
      "All 250 micron\n",
      "     records        n.max      n.start       events       *rmean   *se(rmean) \n",
      "313.00000000 313.00000000 313.00000000 313.00000000  42.75966727   0.03378735 \n",
      "      median      0.95LCL      0.95UCL \n",
      " 42.86591633  42.80096694  42.92735256 \n",
      "\n"
     ]
    }
   ],
   "source": [
    "# Run the survival analysis for 250 micron luminosities\n",
    "surv_250_all = calc_surv_mean(np.log10(l250.values), cens250.values)\n",
    "print('All 250 micron')\n",
    "print(surv_250_all[-1])"
   ]
  },
  {
   "cell_type": "code",
   "execution_count": 33,
   "metadata": {
    "collapsed": false
   },
   "outputs": [
    {
     "name": "stdout",
     "output_type": "stream",
     "text": [
      "Sy 1 250 micron\n",
      "     records        n.max      n.start       events       *rmean   *se(rmean) \n",
      "149.00000000 149.00000000 149.00000000 137.98814916  42.68949012   0.04003062 \n",
      "      median      0.95LCL      0.95UCL \n",
      " 42.80096694  42.66787996  42.89906896 \n",
      "\n"
     ]
    }
   ],
   "source": [
    "surv_250_sy1 = calc_surv_mean(np.log10(l250[bat_info.Sy_Type == 'Sy 1'].values), cens250[bat_info.Sy_Type=='Sy 1'].values)\n",
    "print('Sy 1 250 micron')\n",
    "print(surv_250_sy1[-1])"
   ]
  },
  {
   "cell_type": "code",
   "execution_count": 34,
   "metadata": {
    "collapsed": false
   },
   "outputs": [
    {
     "name": "stdout",
     "output_type": "stream",
     "text": [
      "Sy 2 250 micron\n",
      "     records        n.max      n.start       events       *rmean   *se(rmean) \n",
      "157.00000000 157.00000000 157.00000000 157.00000000  42.83959847   0.04386191 \n",
      "      median      0.95LCL      0.95UCL \n",
      " 42.89834708  42.84379339  43.01111939 \n",
      "\n"
     ]
    }
   ],
   "source": [
    "surv_250_sy2 = calc_surv_mean(np.log10(l250[bat_info.Sy_Type == 'Sy 2'].values), cens250[bat_info.Sy_Type=='Sy 2'].values)\n",
    "print('Sy 2 250 micron')\n",
    "print(surv_250_sy2[-1])"
   ]
  },
  {
   "cell_type": "code",
   "execution_count": 35,
   "metadata": {
    "collapsed": false
   },
   "outputs": [
    {
     "name": "stdout",
     "output_type": "stream",
     "text": [
      "All 350 micron\n",
      "     records        n.max      n.start       events       *rmean   *se(rmean) \n",
      "313.00000000 313.00000000 313.00000000 313.00000000  42.22038868   0.03670479 \n",
      "      median      0.95LCL      0.95UCL \n",
      " 42.34044154  42.26026297  42.43537809 \n",
      "\n"
     ]
    }
   ],
   "source": [
    "# Run the survival analysis for 350 micron luminosities\n",
    "surv_350_all = calc_surv_mean(np.log10(l350.values), cens350.values)\n",
    "print('All 350 micron')\n",
    "print(surv_350_all[-1])"
   ]
  },
  {
   "cell_type": "code",
   "execution_count": 36,
   "metadata": {
    "collapsed": false
   },
   "outputs": [
    {
     "name": "stdout",
     "output_type": "stream",
     "text": [
      "Sy 1 350 micron\n",
      "     records        n.max      n.start       events       *rmean   *se(rmean) \n",
      "149.00000000 149.00000000 149.00000000 129.05218916  42.17030174   0.03851256 \n",
      "      median      0.95LCL      0.95UCL \n",
      " 42.24673273  42.08991321  42.42513544 \n",
      "\n"
     ]
    }
   ],
   "source": [
    "surv_350_sy1 = calc_surv_mean(np.log10(l350[bat_info.Sy_Type == 'Sy 1'].values), cens350[bat_info.Sy_Type=='Sy 1'].values)\n",
    "print('Sy 1 350 micron')\n",
    "print(surv_350_sy1[-1])"
   ]
  },
  {
   "cell_type": "code",
   "execution_count": 37,
   "metadata": {
    "collapsed": false
   },
   "outputs": [
    {
     "name": "stdout",
     "output_type": "stream",
     "text": [
      "Sy 2 350 micron\n",
      "     records        n.max      n.start       events       *rmean   *se(rmean) \n",
      "157.00000000 157.00000000 157.00000000 157.00000000  42.31835838   0.04586918 \n",
      "      median      0.95LCL      0.95UCL \n",
      " 42.39155843  42.33963598  42.47461722 \n",
      "\n"
     ]
    }
   ],
   "source": [
    "surv_350_sy2 = calc_surv_mean(np.log10(l350[bat_info.Sy_Type == 'Sy 2'].values), cens350[bat_info.Sy_Type=='Sy 2'].values)\n",
    "print('Sy 2 350 micron')\n",
    "print(surv_350_sy2[-1])"
   ]
  },
  {
   "cell_type": "code",
   "execution_count": 40,
   "metadata": {
    "collapsed": false
   },
   "outputs": [
    {
     "name": "stdout",
     "output_type": "stream",
     "text": [
      "All 500 micron\n",
      "     records        n.max      n.start       events       *rmean   *se(rmean) \n",
      "313.00000000 313.00000000 313.00000000 280.28758539  41.59561243   0.02787581 \n",
      "      median      0.95LCL      0.95UCL \n",
      " 41.66097777  41.59037196  41.73436038 \n",
      "\n"
     ]
    }
   ],
   "source": [
    "# Run the survival analysis for 500 micron luminosities\n",
    "surv_500_all = calc_surv_mean(np.log10(l500.values), cens500.values)\n",
    "print('All 500 micron')\n",
    "print(surv_500_all[-1])"
   ]
  },
  {
   "cell_type": "code",
   "execution_count": 41,
   "metadata": {
    "collapsed": false
   },
   "outputs": [
    {
     "name": "stdout",
     "output_type": "stream",
     "text": [
      "Sy 1 500 micron\n",
      "     records        n.max      n.start       events       *rmean   *se(rmean) \n",
      "149.00000000 149.00000000 149.00000000 149.00000000  41.48862051   0.05379019 \n",
      "      median      0.95LCL      0.95UCL \n",
      " 41.45121793  41.32708291  41.59404171 \n",
      "\n"
     ]
    }
   ],
   "source": [
    "surv_500_sy1 = calc_surv_mean(np.log10(l500[bat_info.Sy_Type == 'Sy 1'].values), cens500[bat_info.Sy_Type=='Sy 1'].values)\n",
    "print('Sy 1 500 micron')\n",
    "print(surv_500_sy1[-1])"
   ]
  },
  {
   "cell_type": "code",
   "execution_count": 42,
   "metadata": {
    "collapsed": false
   },
   "outputs": [
    {
     "name": "stdout",
     "output_type": "stream",
     "text": [
      "Sy 2 500 micron\n",
      "     records        n.max      n.start       events       *rmean   *se(rmean) \n",
      "157.00000000 157.00000000 157.00000000 143.63553862  41.69685967   0.03303504 \n",
      "      median      0.95LCL      0.95UCL \n",
      " 41.73436038  41.66136375  41.85591047 \n",
      "\n"
     ]
    }
   ],
   "source": [
    "surv_500_sy2 = calc_surv_mean(np.log10(l500[bat_info.Sy_Type == 'Sy 2'].values), cens500[bat_info.Sy_Type=='Sy 2'].values)\n",
    "print('Sy 2 500 micron')\n",
    "print(surv_500_sy2[-1])"
   ]
  }
 ],
 "metadata": {
  "kernelspec": {
   "display_name": "Python 2",
   "language": "python",
   "name": "python2"
  },
  "language_info": {
   "codemirror_mode": {
    "name": "ipython",
    "version": 2
   },
   "file_extension": ".py",
   "mimetype": "text/x-python",
   "name": "python",
   "nbconvert_exporter": "python",
   "pygments_lexer": "ipython2",
   "version": "2.7.9"
  }
 },
 "nbformat": 4,
 "nbformat_minor": 0
}
